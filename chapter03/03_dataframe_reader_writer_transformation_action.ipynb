{
 "cells": [
  {
   "cell_type": "markdown",
   "metadata": {},
   "source": [
    "### データセットの取得\n",
    "https://github.com/databricks/LearningSparkV2/blob/master/chapter3/data/sf-fire-calls.csv  \n",
    "を同じフォルダに格納  "
   ]
  },
  {
   "cell_type": "code",
   "execution_count": null,
   "metadata": {},
   "outputs": [],
   "source": [
    "from pyspark.sql.types import *\n",
    "from pyspark.sql import SparkSession\n",
    "from pyspark.sql.functions import col, countDistinct, to_timestamp, year\n",
    "from pyspark.sql.functions import sum as fsum, avg as favg, min as fmin, max as fmax"
   ]
  },
  {
   "cell_type": "code",
   "execution_count": null,
   "metadata": {},
   "outputs": [],
   "source": [
    "fire_schema = StructType([\n",
    "                StructField('CallNumber', IntegerType(), True),\n",
    "                StructField('UnitID', StringType(), True),\n",
    "                StructField('IncidentNumber', IntegerType(), True),\n",
    "                StructField('CallType', StringType(), True),\n",
    "                StructField('CallDate', StringType(), True),\n",
    "                StructField('WatchDate', StringType(), True),\n",
    "                StructField('CallFinalDisposition', StringType(), True),\n",
    "                StructField('AvailableDtTm', StringType(), True),\n",
    "                StructField('Address', StringType(), True),\n",
    "                StructField('City', StringType(), True),\n",
    "                StructField('Zipcode', IntegerType(), True),\n",
    "                StructField('Battalion', StringType(), True),\n",
    "                StructField('StationArea', StringType(), True),\n",
    "                StructField('Box', StringType(), True),\n",
    "                StructField('OriginalPriority', StringType(), True),\n",
    "                StructField('Priority', StringType(), True),\n",
    "                StructField('FinalPriority', IntegerType(), True),\n",
    "                StructField('ALSUnit', BooleanType(), True),\n",
    "                StructField('CallTypeGroup', StringType(), True),\n",
    "                StructField('NumAlarms', IntegerType(), True),\n",
    "                StructField('UnitType', StringType(), True),\n",
    "                StructField('UnitSequenceInCallDispatch', IntegerType(), True),\n",
    "                StructField('FirePreventionDistrict', StringType(), True),\n",
    "                StructField('SupervisorDistrict', StringType(), True),\n",
    "                StructField('Neighborhood', StringType(), True),\n",
    "                StructField('Location', StringType(), True),\n",
    "                StructField('RowID', StringType(), True),\n",
    "                StructField('Delay', FloatType(), True)\n",
    "                ])\n"
   ]
  },
  {
   "cell_type": "code",
   "execution_count": null,
   "metadata": {},
   "outputs": [],
   "source": [
    "sf_fire_file = 'sf-fire-calls.csv'"
   ]
  },
  {
   "cell_type": "code",
   "execution_count": null,
   "metadata": {},
   "outputs": [],
   "source": [
    "spark =(SparkSession.builder.appName('Fire').getOrCreate())"
   ]
  },
  {
   "cell_type": "code",
   "execution_count": null,
   "metadata": {},
   "outputs": [],
   "source": [
    "fire_df = spark.read.csv(sf_fire_file, header=True, schema=fire_schema)"
   ]
  },
  {
   "cell_type": "code",
   "execution_count": null,
   "metadata": {},
   "outputs": [],
   "source": [
    "fire_df.collect()"
   ]
  },
  {
   "cell_type": "code",
   "execution_count": null,
   "metadata": {},
   "outputs": [],
   "source": [
    "parquet_path = 'fire_calls_parquet'\n",
    "fire_df.write.format('parquet').save(parquet_path)"
   ]
  },
  {
   "cell_type": "code",
   "execution_count": null,
   "metadata": {},
   "outputs": [],
   "source": [
    "parquet_table = 'fire_calls_table'\n",
    "fire_df.write.format('parquet').saveAsTable(parquet_table)"
   ]
  },
  {
   "cell_type": "code",
   "execution_count": null,
   "metadata": {},
   "outputs": [],
   "source": [
    "few_fire_df = (fire_df\n",
    "    .select('IncidentNumber', 'AvailableDtTm', 'CallType')\n",
    "    .where(col('CallType') != 'Medical Incident'))"
   ]
  },
  {
   "cell_type": "code",
   "execution_count": null,
   "metadata": {},
   "outputs": [],
   "source": [
    "few_fire_df.show(5, truncate=False)"
   ]
  },
  {
   "cell_type": "code",
   "execution_count": null,
   "metadata": {},
   "outputs": [],
   "source": [
    "(fire_df\n",
    "    .select('CallType')\n",
    "    .where(col('CallType').isNotNull())\n",
    "    .agg(countDistinct('CallType').alias('DistinctCallTypes'))\n",
    "    .show())"
   ]
  },
  {
   "cell_type": "code",
   "execution_count": null,
   "metadata": {},
   "outputs": [],
   "source": [
    "(fire_df\n",
    "    .select('CallType')\n",
    "    .where(col('CallType').isNotNull())\n",
    "    .distinct()\n",
    "    .show(10, False)\n",
    ")"
   ]
  },
  {
   "cell_type": "code",
   "execution_count": null,
   "metadata": {},
   "outputs": [],
   "source": [
    "new_fire_df = fire_df.withColumnRenamed('Delay', 'ResponseDelayedinMins')\n",
    "(new_fire_df\n",
    "    .select('ResponseDelayedinMins')\n",
    "    .where(col('ResponseDelayedinMins') > 5)\n",
    "    .show(5, False)\n",
    ")"
   ]
  },
  {
   "cell_type": "code",
   "execution_count": null,
   "metadata": {},
   "outputs": [],
   "source": [
    "fire_ts_df = (new_fire_df\n",
    "    .withColumn('IncidentDate', to_timestamp(col('CallDate'), 'MM/dd/yyyy'))\n",
    "    .drop('CallDate')\n",
    "    .withColumn('OnWatchDate', to_timestamp(col('WatchDate'), 'MM/dd/yyyy'))\n",
    "    .drop('WatchDate')\n",
    "    .withColumn('AvailableDtTS', to_timestamp(col('AvailableDtTm'), 'MM/dd/yyyy hh:mm:ss a'))\n",
    "    .drop('AvailableDtTm')\n",
    ")"
   ]
  },
  {
   "cell_type": "code",
   "execution_count": null,
   "metadata": {},
   "outputs": [],
   "source": [
    "(fire_ts_df\n",
    "    .select('IncidentDate', 'OnWatchDate', 'AvailableDtTS')\n",
    "    .show(5, False)\n",
    ")"
   ]
  },
  {
   "cell_type": "code",
   "execution_count": null,
   "metadata": {},
   "outputs": [],
   "source": [
    "(fire_ts_df\n",
    "    .select(year('IncidentDate'))\n",
    "    .distinct()\n",
    "    .orderBy(year('IncidentDate'))\n",
    "    .show()\n",
    ")   "
   ]
  },
  {
   "cell_type": "code",
   "execution_count": null,
   "metadata": {},
   "outputs": [],
   "source": [
    "(fire_ts_df\n",
    "    .select('CallType')\n",
    "    .where(col('CallType').isNotNull())\n",
    "    .groupBy('CallType')\n",
    "    .count()\n",
    "    .orderBy('count', ascending=False)\n",
    "    .show(n=10, truncate=False)\n",
    ")"
   ]
  },
  {
   "cell_type": "code",
   "execution_count": null,
   "metadata": {},
   "outputs": [],
   "source": [
    "(fire_ts_df\n",
    "    .select(fsum('NumAlarms'), \n",
    "            favg('ResponseDelayedinMins'), \n",
    "            fmin('ResponseDelayedinMins'), \n",
    "            fmax('ResponseDelayedinMins')\n",
    "    )\n",
    "    .show()\n",
    ")"
   ]
  },
  {
   "cell_type": "code",
   "execution_count": null,
   "metadata": {},
   "outputs": [],
   "source": []
  }
 ],
 "metadata": {
  "kernelspec": {
   "display_name": "venv",
   "language": "python",
   "name": "python3"
  },
  "language_info": {
   "codemirror_mode": {
    "name": "ipython",
    "version": 3
   },
   "file_extension": ".py",
   "mimetype": "text/x-python",
   "name": "python",
   "nbconvert_exporter": "python",
   "pygments_lexer": "ipython3",
   "version": "3.10.14"
  }
 },
 "nbformat": 4,
 "nbformat_minor": 2
}
