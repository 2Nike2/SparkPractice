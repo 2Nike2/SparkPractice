{
 "cells": [
  {
   "cell_type": "code",
   "execution_count": null,
   "metadata": {},
   "outputs": [],
   "source": [
    "from pyspark.sql import SparkSession\n",
    "from pyspark.sql.functions import expr"
   ]
  },
  {
   "cell_type": "code",
   "execution_count": null,
   "metadata": {},
   "outputs": [],
   "source": [
    "spark = SparkSession.builder.appName(\"example\").getOrCreate()"
   ]
  },
  {
   "cell_type": "code",
   "execution_count": null,
   "metadata": {},
   "outputs": [],
   "source": [
    "airports_file_path = \"airport-codes-na.txt\"\n",
    "airports = spark.read.format(\"csv\").options(header=\"true\", inferSchema=\"true\", sep=\"\\t\").load(airports_file_path)"
   ]
  },
  {
   "cell_type": "code",
   "execution_count": null,
   "metadata": {},
   "outputs": [],
   "source": [
    "airports.createOrReplaceTempView(\"airports\")"
   ]
  },
  {
   "cell_type": "code",
   "execution_count": null,
   "metadata": {},
   "outputs": [],
   "source": [
    "departure_delays_file_path = \"departuredelays.csv\"\n",
    "departure_delays = spark.read.format(\"csv\").options(header=\"true\").load(departure_delays_file_path)"
   ]
  },
  {
   "cell_type": "code",
   "execution_count": null,
   "metadata": {},
   "outputs": [],
   "source": [
    "departure_delays = departure_delays\\\n",
    "  .withColumn(\"delay\", expr(\"CAST(delay as INT) as delay\"))\\\n",
    "  .withColumn(\"distance\", expr(\"CAST(distance as INT) as distance\"))"
   ]
  },
  {
   "cell_type": "code",
   "execution_count": null,
   "metadata": {},
   "outputs": [],
   "source": [
    "departure_delays.createOrReplaceTempView(\"departure_delays\")"
   ]
  },
  {
   "cell_type": "code",
   "execution_count": null,
   "metadata": {},
   "outputs": [],
   "source": [
    "foo = departure_delays.filter(expr(\"\"\"\n",
    "origin == 'SEA' AND destination == 'SFO' AND date like '01010%' AND delay > 0\n",
    "\"\"\"))"
   ]
  },
  {
   "cell_type": "code",
   "execution_count": null,
   "metadata": {},
   "outputs": [],
   "source": [
    "foo.createOrReplaceTempView(\"foo\")"
   ]
  },
  {
   "cell_type": "code",
   "execution_count": null,
   "metadata": {},
   "outputs": [],
   "source": [
    "spark.sql(\"SELECT * FROM departure_delays LIMIT 10\").show()"
   ]
  },
  {
   "cell_type": "code",
   "execution_count": null,
   "metadata": {},
   "outputs": [],
   "source": [
    "spark.sql(\"SELECT * FROM foo\").show()"
   ]
  },
  {
   "cell_type": "code",
   "execution_count": null,
   "metadata": {},
   "outputs": [],
   "source": [
    "bar = departure_delays.union(foo)\n",
    "bar.createOrReplaceTempView(\"bar\")"
   ]
  },
  {
   "cell_type": "code",
   "execution_count": null,
   "metadata": {},
   "outputs": [],
   "source": [
    "bar.filter(expr(\"origin == 'SEA' AND destination == 'SFO' AND date like '01010%' AND delay > 0\")).show()"
   ]
  },
  {
   "cell_type": "code",
   "execution_count": null,
   "metadata": {},
   "outputs": [],
   "source": [
    "foo.join(\n",
    "  airports,\n",
    "  airports.IATA == foo.origin\n",
    ").select(\"City\", \"State\", \"date\", \"delay\", \"distance\", \"destination\").show()"
   ]
  },
  {
   "cell_type": "code",
   "execution_count": null,
   "metadata": {},
   "outputs": [],
   "source": [
    "departure_delays_sum = spark.sql(\"\"\"\n",
    "SELECT\n",
    "  origin,\n",
    "  destination,\n",
    "  SUM(delay) as TotalDelays\n",
    "FROM departure_delays\n",
    "WHERE origin in ('SEA', 'SFO', 'JFK')\n",
    "AND destination in ('SEA', 'SFO', 'JFK', 'DEN', 'ORD', 'LAX', 'ATL')\n",
    "Group By origin, destination\n",
    "\"\"\")\n",
    "\n",
    "departure_delays_sum.createOrReplaceTempView(\"departure_delays_sum\")"
   ]
  },
  {
   "cell_type": "code",
   "execution_count": null,
   "metadata": {},
   "outputs": [],
   "source": [
    "spark.sql(\"\"\"\n",
    "SELECT origin, destination, TotalDelays, rank \n",
    "  FROM (\n",
    "    SELECT\n",
    "      origin,\n",
    "      destination,\n",
    "      TotalDelays,\n",
    "      dense_rank() OVER (PARTITION BY origin ORDER BY TotalDelays DESC) as rank\n",
    "    FROM departure_delays_sum\n",
    "  ) t\n",
    "  WHERE rank <= 3\n",
    "\"\"\").show()"
   ]
  },
  {
   "cell_type": "code",
   "execution_count": null,
   "metadata": {},
   "outputs": [],
   "source": [
    "foo2 = foo.withColumn(\n",
    "    \"status\",\n",
    "    expr(\"CASE WHEN delay <= 10 THEN 'On-time' ELSE 'Delayed' END\")\n",
    ")"
   ]
  },
  {
   "cell_type": "code",
   "execution_count": null,
   "metadata": {},
   "outputs": [],
   "source": [
    "foo2.show()"
   ]
  },
  {
   "cell_type": "code",
   "execution_count": null,
   "metadata": {},
   "outputs": [],
   "source": [
    "foo3 = foo2.drop(\"delay\")\n",
    "foo3.show()"
   ]
  },
  {
   "cell_type": "code",
   "execution_count": null,
   "metadata": {},
   "outputs": [],
   "source": [
    "foo4 = foo3.withColumnRenamed(\"status\", \"flight_status\")\n",
    "foo4.show()"
   ]
  },
  {
   "cell_type": "code",
   "execution_count": null,
   "metadata": {},
   "outputs": [],
   "source": [
    "pivot_before = spark.sql(\"\"\"\n",
    "SELECT * FROM (\n",
    "  SELECT\n",
    "    destination, \n",
    "    CAST(SUBSTRING(date, 0, 2) AS int) AS month,\n",
    "    delay\n",
    "  FROM departure_delays\n",
    "  WHERE origin = 'SEA'\n",
    ")\n",
    "ORDER BY destination\n",
    "\"\"\").show()"
   ]
  },
  {
   "cell_type": "code",
   "execution_count": null,
   "metadata": {},
   "outputs": [],
   "source": [
    "pivot_after = spark.sql(\"\"\"\n",
    "SELECT * FROM (\n",
    "  SELECT\n",
    "    destination, \n",
    "    CAST(SUBSTRING(date, 0, 2) AS int) AS month,\n",
    "    delay\n",
    "  FROM departure_delays\n",
    "  WHERE origin = 'SEA'\n",
    ")\n",
    "PIVOT ( \n",
    "  CAST(AVG(delay) AS DECIMAL(4, 2)) AS AvgDelay, \n",
    "  MAX(delay) AS MaxDelay\n",
    "  FOR month in (1 JAN, 2 FEB)\n",
    ")\n",
    "ORDER BY destination\n",
    "\"\"\").show()"
   ]
  },
  {
   "cell_type": "code",
   "execution_count": null,
   "metadata": {},
   "outputs": [],
   "source": []
  }
 ],
 "metadata": {
  "kernelspec": {
   "display_name": "venv",
   "language": "python",
   "name": "python3"
  },
  "language_info": {
   "codemirror_mode": {
    "name": "ipython",
    "version": 3
   },
   "file_extension": ".py",
   "mimetype": "text/x-python",
   "name": "python",
   "nbconvert_exporter": "python",
   "pygments_lexer": "ipython3",
   "version": "3.10.14"
  }
 },
 "nbformat": 4,
 "nbformat_minor": 2
}
