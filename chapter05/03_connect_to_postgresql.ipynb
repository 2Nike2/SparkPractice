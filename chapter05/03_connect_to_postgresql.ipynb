{
 "cells": [
  {
   "cell_type": "code",
   "execution_count": null,
   "metadata": {},
   "outputs": [],
   "source": [
    "# 同階層にjdbcフォルダを作り、その中に\n",
    "# postgresql-x.x.x.jar\n",
    "# を格納\n",
    "# pgAdminで適当なテーブル(ただし、PK項目必須)を作っておく"
   ]
  },
  {
   "cell_type": "code",
   "execution_count": null,
   "metadata": {},
   "outputs": [],
   "source": [
    "from pyspark.sql import SparkSession\n",
    "import os\n",
    "from dotenv import load_dotenv\n",
    "\n",
    "load_dotenv()\n",
    "DBSERVER_PORT_DBNAME = os.getenv(\"DBSERVER_PORT_DBNAME\")\n",
    "SCHEMA = os.getenv(\"SCHEMA\")\n",
    "TABLENAME = os.getenv(\"TABLENAME\")\n",
    "USERNAME = os.getenv(\"USERNAME\")\n",
    "PASSWORD = os.getenv(\"PASSWORD\")\n"
   ]
  },
  {
   "cell_type": "code",
   "execution_count": null,
   "metadata": {},
   "outputs": [],
   "source": [
    "spark = SparkSession.builder\\\n",
    "    .appName('example')\\\n",
    "    .config('spark.jars', 'jdbc/postgresql-42.7.3.jar')\\\n",
    "    .getOrCreate()"
   ]
  },
  {
   "cell_type": "code",
   "execution_count": null,
   "metadata": {},
   "outputs": [],
   "source": [
    "# option指定とloadメソッド\n",
    "jdbc_df_1 = (spark\n",
    "             .read\n",
    "             .format('jdbc')\n",
    "             .option('url', f'jdbc:postgresql://{DBSERVER_PORT_DBNAME}')\n",
    "             .option('dbtable', f'{SCHEMA}.{TABLENAME}')\n",
    "             .option('user', USERNAME)\n",
    "             .option('password', PASSWORD)\n",
    "             .option('driver', 'org.postgresql.Driver')\n",
    "             .load())"
   ]
  },
  {
   "cell_type": "code",
   "execution_count": null,
   "metadata": {},
   "outputs": [],
   "source": [
    "jdbc_df_1.show()"
   ]
  },
  {
   "cell_type": "code",
   "execution_count": null,
   "metadata": {},
   "outputs": [],
   "source": [
    "# # テーブルの値の更新を行なって保存するはずが、何故かテーブルを空にする為、断念\n",
    "# jdbc_df_1.withColumn('age', jdbc_df_1.age + 10)\n",
    "# (jdbc_df_1\n",
    "#     .write\n",
    "#     .mode('overwrite')\n",
    "#     .format('jdbc')\n",
    "#     .option('url', f'jdbc:postgresql://{DBSERVER_PORT_DBNAME}')\n",
    "#     .option('dbtable', f'{SCHEMA}.{TABLENAME}')\n",
    "#     .option('user', USERNAME)\n",
    "#     .option('password', PASSWORD)\n",
    "#     .option('driver', 'org.postgresql.Driver')\n",
    "#     .save())"
   ]
  },
  {
   "cell_type": "code",
   "execution_count": null,
   "metadata": {},
   "outputs": [],
   "source": [
    "# jdbcメソッド\n",
    "jdbc_df_2 = (spark\n",
    "             .read\n",
    "             .jdbc(f'jdbc:postgresql://{DBSERVER_PORT_DBNAME}', f'{SCHEMA}.{TABLENAME}',\n",
    "                   properties={'user': USERNAME, 'password': PASSWORD, 'driver': 'org.postgresql.Driver'}))"
   ]
  },
  {
   "cell_type": "code",
   "execution_count": null,
   "metadata": {},
   "outputs": [],
   "source": [
    "jdbc_df_2.show()"
   ]
  },
  {
   "cell_type": "code",
   "execution_count": null,
   "metadata": {},
   "outputs": [],
   "source": []
  }
 ],
 "metadata": {
  "kernelspec": {
   "display_name": "venv",
   "language": "python",
   "name": "python3"
  },
  "language_info": {
   "codemirror_mode": {
    "name": "ipython",
    "version": 3
   },
   "file_extension": ".py",
   "mimetype": "text/x-python",
   "name": "python",
   "nbconvert_exporter": "python",
   "pygments_lexer": "ipython3",
   "version": "3.10.14"
  }
 },
 "nbformat": 4,
 "nbformat_minor": 2
}
