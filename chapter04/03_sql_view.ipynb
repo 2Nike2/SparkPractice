{
 "cells": [
  {
   "cell_type": "code",
   "execution_count": null,
   "metadata": {},
   "outputs": [],
   "source": [
    "from pyspark.sql import SparkSession"
   ]
  },
  {
   "cell_type": "code",
   "execution_count": null,
   "metadata": {},
   "outputs": [],
   "source": [
    "# Hiveサポートの有効化が必要\n",
    "spark = SparkSession.builder.appName('example').config('spark.sql.catalogImplementation', 'hive').enableHiveSupport().getOrCreate()"
   ]
  },
  {
   "cell_type": "code",
   "execution_count": null,
   "metadata": {},
   "outputs": [],
   "source": [
    "spark.sql('CREATE DATABASE learn_spark_db')\n",
    "spark.sql('USE learn_spark_db')"
   ]
  },
  {
   "cell_type": "code",
   "execution_count": null,
   "metadata": {},
   "outputs": [],
   "source": [
    "schema = '`date` STRING, `delay` INT, `distance` INT, `origin` STRING, `destination` STRING'\n",
    "df = spark.read.format('csv').option('header', 'true').schema(schema).load('departuredelays.csv')\n",
    "df = df.write.saveAsTable('us_delay_flights_tbl')"
   ]
  },
  {
   "cell_type": "code",
   "execution_count": null,
   "metadata": {},
   "outputs": [],
   "source": [
    "df_sfo = spark.sql('SELECT date, delay, origin, destination FROM us_delay_flights_tbl WHERE origin = \"SFO\"')\n",
    "df_jfk = spark.sql('SELECT date, delay, origin, destination FROM us_delay_flights_tbl WHERE origin = \"JFK\"')"
   ]
  },
  {
   "cell_type": "code",
   "execution_count": null,
   "metadata": {},
   "outputs": [],
   "source": [
    "df_sfo.createOrReplaceGlobalTempView('us_origin_airport_SFO_global_tmp_view')\n",
    "df_jfk.createOrReplaceTempView('us_origin_airport_JFK_tmp_view')"
   ]
  },
  {
   "cell_type": "code",
   "execution_count": null,
   "metadata": {},
   "outputs": [],
   "source": [
    "spark.read.table('global_temp.us_origin_airport_SFO_global_tmp_view').show()"
   ]
  },
  {
   "cell_type": "code",
   "execution_count": null,
   "metadata": {},
   "outputs": [],
   "source": [
    "spark.read.table('us_origin_airport_JFK_tmp_view').show()"
   ]
  },
  {
   "cell_type": "code",
   "execution_count": null,
   "metadata": {},
   "outputs": [],
   "source": []
  }
 ],
 "metadata": {
  "kernelspec": {
   "display_name": "venv",
   "language": "python",
   "name": "python3"
  },
  "language_info": {
   "codemirror_mode": {
    "name": "ipython",
    "version": 3
   },
   "file_extension": ".py",
   "mimetype": "text/x-python",
   "name": "python",
   "nbconvert_exporter": "python",
   "pygments_lexer": "ipython3",
   "version": "3.10.14"
  }
 },
 "nbformat": 4,
 "nbformat_minor": 2
}
