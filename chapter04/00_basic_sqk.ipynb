{
 "cells": [
  {
   "cell_type": "markdown",
   "metadata": {},
   "source": [
    "### データセットのダウンロード\n",
    "https://github.com/databricks/LearningSparkV2/blob/master/databricks-datasets/learning-spark-v2/flights/departuredelays.csv   \n",
    "を取得して同じディレクトリに格納する。"
   ]
  },
  {
   "cell_type": "code",
   "execution_count": null,
   "metadata": {},
   "outputs": [],
   "source": [
    "from pyspark.sql import SparkSession\n",
    "from pyspark.sql.functions import when, col"
   ]
  },
  {
   "cell_type": "code",
   "execution_count": null,
   "metadata": {},
   "outputs": [],
   "source": [
    "spark = (SparkSession.builder.appName(\"SparkSQLExampleApp\").getOrCreate())"
   ]
  },
  {
   "cell_type": "code",
   "execution_count": null,
   "metadata": {},
   "outputs": [],
   "source": [
    "csv_file = 'departuredelays.csv'"
   ]
  },
  {
   "cell_type": "code",
   "execution_count": null,
   "metadata": {},
   "outputs": [],
   "source": [
    "# スキーマ指定しないとdateで一桁月の0埋めが消える。\n",
    "schema = '`date` STRING, `delay` INT, `distance` INT, `origin` STRING, `destination` STRING'"
   ]
  },
  {
   "cell_type": "code",
   "execution_count": null,
   "metadata": {},
   "outputs": [],
   "source": [
    "df = (spark.read.format('csv')\n",
    "     .option('header', 'true')\n",
    "     .schema(schema)\n",
    "     .load(csv_file))\n",
    "df.createOrReplaceTempView('us_delay_flights_tbl')"
   ]
  },
  {
   "cell_type": "code",
   "execution_count": null,
   "metadata": {},
   "outputs": [],
   "source": [
    "spark.sql(\"\"\"SELECT distance, origin, destination\n",
    "FROM us_delay_flights_tbl WHERE distance > 1000\n",
    "ORDER BY distance DESC\"\"\").show(10)"
   ]
  },
  {
   "cell_type": "code",
   "execution_count": null,
   "metadata": {},
   "outputs": [],
   "source": [
    "spark.sql(\"\"\"SELECT date, delay, origin, destination\n",
    "FROM us_delay_flights_tbl\n",
    "WHERE delay > 120 AND origin = 'SFO' AND destination = 'ORD'\n",
    "ORDER BY delay DESC\"\"\").show(10)"
   ]
  },
  {
   "cell_type": "code",
   "execution_count": null,
   "metadata": {},
   "outputs": [],
   "source": [
    "spark.sql(\"\"\"SELECT\n",
    "date_format(to_timestamp(date, 'MMddHHmm'), 'MM-dd hh:mm a') as formatted_date, \n",
    "delay, origin, destination \n",
    "FROM us_delay_flights_tbl \n",
    "WHERE delay > 120 AND origin = 'SFO' AND destination = 'ORD'\n",
    "ORDER BY delay DESC\"\"\").show(10)"
   ]
  },
  {
   "cell_type": "code",
   "execution_count": null,
   "metadata": {},
   "outputs": [],
   "source": [
    "spark.sql(\"\"\"SELECT delay, origin, destination,\n",
    "    CASE\n",
    "        WHEN delay > 360 THEN 'Very Long Delays'\n",
    "        WHEN delay > 120 AND delay <= 360 THEN 'Long Delays'\n",
    "        WHEN delay >= 60 AND delay <= 120 THEN 'Short Delays'\n",
    "        WHEN delay > 0 and delay <= 60 THEN 'Tolerable Delays'\n",
    "        WHEN delay = 0 THEN 'No Delays'\n",
    "        ELSE 'Early'\n",
    "    END AS Flight_Delays\n",
    "FROM us_delay_flights_tbl\n",
    "ORDER BY origin, delay DESC\"\"\").show(10)\n"
   ]
  },
  {
   "cell_type": "code",
   "execution_count": null,
   "metadata": {},
   "outputs": [],
   "source": [
    "(df.select('distance', 'origin', 'destination').where('distance > 1000').orderBy('distance', ascending=False).show(10))"
   ]
  },
  {
   "cell_type": "code",
   "execution_count": null,
   "metadata": {},
   "outputs": [],
   "source": [
    "(df.select('date', 'delay', 'origin', 'destination').where('delay > 120').where('origin == \"SFO\"').where('destination == \"ORD\"').orderBy('delay', ascending=False).show(10))"
   ]
  },
  {
   "cell_type": "code",
   "execution_count": null,
   "metadata": {},
   "outputs": [],
   "source": [
    "(df\n",
    " .selectExpr('date_format(to_timestamp(date, \"MMddHHmm\"), \"MM-dd hh:mm a\") as formatted_date', 'delay', 'origin', 'destination')\n",
    " .where('delay > 120').where('origin == \"SFO\"').where('destination == \"ORD\"').orderBy('delay', ascending=False).show(10))"
   ]
  },
  {
   "cell_type": "code",
   "execution_count": null,
   "metadata": {},
   "outputs": [],
   "source": [
    "(df.select('delay', 'origin', 'destination',\n",
    "           when(df.delay > 360, 'Very Long Delays')\n",
    "           .when((df.delay > 120) & (df.delay <= 360), 'Long Delays')\n",
    "           .when((df.delay >= 60) & (df.delay <= 120), 'Short Delays')\n",
    "           .when((df.delay > 0) & (df.delay < 60), 'Tolerable Delays')\n",
    "           .when(df.delay == 0, 'No Delays')\n",
    "           .otherwise('Early').alias('Flight_Delays'))\n",
    "    .orderBy(col('origin').asc(), col('delay').desc()).show(10))"
   ]
  },
  {
   "cell_type": "code",
   "execution_count": null,
   "metadata": {},
   "outputs": [],
   "source": []
  }
 ],
 "metadata": {
  "kernelspec": {
   "display_name": "venv",
   "language": "python",
   "name": "python3"
  },
  "language_info": {
   "codemirror_mode": {
    "name": "ipython",
    "version": 3
   },
   "file_extension": ".py",
   "mimetype": "text/x-python",
   "name": "python",
   "nbconvert_exporter": "python",
   "pygments_lexer": "ipython3",
   "version": "3.10.14"
  }
 },
 "nbformat": 4,
 "nbformat_minor": 2
}
