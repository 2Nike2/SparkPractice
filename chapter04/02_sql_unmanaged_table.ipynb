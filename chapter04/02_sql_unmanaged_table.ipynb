{
 "cells": [
  {
   "cell_type": "code",
   "execution_count": null,
   "metadata": {},
   "outputs": [],
   "source": [
    "import os\n",
    "from pyspark.sql import SparkSession"
   ]
  },
  {
   "cell_type": "code",
   "execution_count": null,
   "metadata": {},
   "outputs": [],
   "source": [
    "csv_path = os.path.join(os.getcwd(), 'departuredelays.csv')\n",
    "print(csv_path)\n",
    "spark = SparkSession.builder.appName('Example').getOrCreate()"
   ]
  },
  {
   "cell_type": "code",
   "execution_count": null,
   "metadata": {},
   "outputs": [],
   "source": [
    "spark.sql(\"CREATE DATABASE learn_spark_db\")\n",
    "spark.sql(\"USE learn_spark_db\")\n",
    "df = spark.sql(f\"\"\"CREATE TABLE unmanaged_us_delay_flights_tbl\n",
    "          (date STRING, delay INT, distance INT, origin STRING, destination STRING)\n",
    "          USING csv OPTIONS(PATH '{csv_path}')\"\"\")"
   ]
  },
  {
   "cell_type": "code",
   "execution_count": null,
   "metadata": {},
   "outputs": [],
   "source": [
    "# テーブルの確認(tableType='EXTERNAL'を確認)\n",
    "print(spark.catalog.listTables(dbName=\"learn_spark_db\"))\n",
    "\n",
    "# テーブルの列の確認\n",
    "print(spark.catalog.listColumns(\"unmanaged_us_delay_flights_tbl\"))"
   ]
  },
  {
   "cell_type": "code",
   "execution_count": null,
   "metadata": {},
   "outputs": [],
   "source": []
  }
 ],
 "metadata": {
  "kernelspec": {
   "display_name": "venv",
   "language": "python",
   "name": "python3"
  },
  "language_info": {
   "codemirror_mode": {
    "name": "ipython",
    "version": 3
   },
   "file_extension": ".py",
   "mimetype": "text/x-python",
   "name": "python",
   "nbconvert_exporter": "python",
   "pygments_lexer": "ipython3",
   "version": "3.10.14"
  }
 },
 "nbformat": 4,
 "nbformat_minor": 2
}
